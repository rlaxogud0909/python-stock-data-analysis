{
  "nbformat": 4,
  "nbformat_minor": 0,
  "metadata": {
    "colab": {
      "name": "증권 데이터 분석.ipynb",
      "provenance": [],
      "collapsed_sections": [],
      "authorship_tag": "ABX9TyP8vFiq2KxnxJAj4BfuhICM",
      "include_colab_link": true
    },
    "kernelspec": {
      "name": "python3",
      "display_name": "Python 3"
    },
    "language_info": {
      "name": "python"
    }
  },
  "cells": [
    {
      "cell_type": "markdown",
      "metadata": {
        "id": "view-in-github",
        "colab_type": "text"
      },
      "source": [
        "<a href=\"https://colab.research.google.com/github/rlaxogud0909/python-stock-data-analysis/blob/main/%EC%A6%9D%EA%B6%8C_%EB%8D%B0%EC%9D%B4%ED%84%B0_%EB%B6%84%EC%84%9D.ipynb\" target=\"_parent\"><img src=\"https://colab.research.google.com/assets/colab-badge.svg\" alt=\"Open In Colab\"/></a>"
      ]
    },
    {
      "cell_type": "code",
      "execution_count": 1,
      "metadata": {
        "colab": {
          "base_uri": "https://localhost:8080/"
        },
        "id": "DYNrbAsJkTGS",
        "outputId": "5fd6371b-0254-4279-afb7-bc034e6afe7b"
      },
      "outputs": [
        {
          "output_type": "stream",
          "name": "stdout",
          "text": [
            "Collecting yfinance\n",
            "  Downloading yfinance-0.1.70-py2.py3-none-any.whl (26 kB)\n",
            "Requirement already satisfied: multitasking>=0.0.7 in /usr/local/lib/python3.7/dist-packages (from yfinance) (0.0.10)\n",
            "Requirement already satisfied: pandas>=0.24.0 in /usr/local/lib/python3.7/dist-packages (from yfinance) (1.3.5)\n",
            "Requirement already satisfied: numpy>=1.15 in /usr/local/lib/python3.7/dist-packages (from yfinance) (1.21.5)\n",
            "Collecting requests>=2.26\n",
            "  Downloading requests-2.27.1-py2.py3-none-any.whl (63 kB)\n",
            "\u001b[K     |████████████████████████████████| 63 kB 1.8 MB/s \n",
            "\u001b[?25hCollecting lxml>=4.5.1\n",
            "  Downloading lxml-4.8.0-cp37-cp37m-manylinux_2_17_x86_64.manylinux2014_x86_64.manylinux_2_24_x86_64.whl (6.4 MB)\n",
            "\u001b[K     |████████████████████████████████| 6.4 MB 19.1 MB/s \n",
            "\u001b[?25hRequirement already satisfied: pytz>=2017.3 in /usr/local/lib/python3.7/dist-packages (from pandas>=0.24.0->yfinance) (2018.9)\n",
            "Requirement already satisfied: python-dateutil>=2.7.3 in /usr/local/lib/python3.7/dist-packages (from pandas>=0.24.0->yfinance) (2.8.2)\n",
            "Requirement already satisfied: six>=1.5 in /usr/local/lib/python3.7/dist-packages (from python-dateutil>=2.7.3->pandas>=0.24.0->yfinance) (1.15.0)\n",
            "Requirement already satisfied: urllib3<1.27,>=1.21.1 in /usr/local/lib/python3.7/dist-packages (from requests>=2.26->yfinance) (1.24.3)\n",
            "Requirement already satisfied: certifi>=2017.4.17 in /usr/local/lib/python3.7/dist-packages (from requests>=2.26->yfinance) (2021.10.8)\n",
            "Requirement already satisfied: charset-normalizer~=2.0.0 in /usr/local/lib/python3.7/dist-packages (from requests>=2.26->yfinance) (2.0.12)\n",
            "Requirement already satisfied: idna<4,>=2.5 in /usr/local/lib/python3.7/dist-packages (from requests>=2.26->yfinance) (2.10)\n",
            "Installing collected packages: requests, lxml, yfinance\n",
            "  Attempting uninstall: requests\n",
            "    Found existing installation: requests 2.23.0\n",
            "    Uninstalling requests-2.23.0:\n",
            "      Successfully uninstalled requests-2.23.0\n",
            "  Attempting uninstall: lxml\n",
            "    Found existing installation: lxml 4.2.6\n",
            "    Uninstalling lxml-4.2.6:\n",
            "      Successfully uninstalled lxml-4.2.6\n",
            "\u001b[31mERROR: pip's dependency resolver does not currently take into account all the packages that are installed. This behaviour is the source of the following dependency conflicts.\n",
            "google-colab 1.0.0 requires requests~=2.23.0, but you have requests 2.27.1 which is incompatible.\n",
            "datascience 0.10.6 requires folium==0.2.1, but you have folium 0.8.3 which is incompatible.\u001b[0m\n",
            "Successfully installed lxml-4.8.0 requests-2.27.1 yfinance-0.1.70\n"
          ]
        }
      ],
      "source": [
        "!pip install yfinance"
      ]
    },
    {
      "cell_type": "code",
      "source": [
        "from pandas_datareader import data as pdr\n",
        "import yfinance as yf"
      ],
      "metadata": {
        "id": "i8QbGyA2kYtK"
      },
      "execution_count": null,
      "outputs": []
    },
    {
      "cell_type": "code",
      "source": [
        "yf.pdr_override()\n",
        "\n",
        "sec = pdr.get_data_yahoo('005930.KS', start='2022-01-01') # 삼성전자\n",
        "msft = pdr.get_data_yahoo('MSFT', start='2022-01-01') # 마이크로소프트"
      ],
      "metadata": {
        "colab": {
          "base_uri": "https://localhost:8080/"
        },
        "id": "SQ3UftAGkrtV",
        "outputId": "bcf2351f-50aa-4ab7-fb7e-5cbb842a4f52"
      },
      "execution_count": null,
      "outputs": [
        {
          "output_type": "stream",
          "name": "stdout",
          "text": [
            "[*********************100%***********************]  1 of 1 completed\n",
            "[*********************100%***********************]  1 of 1 completed\n"
          ]
        }
      ]
    },
    {
      "cell_type": "code",
      "source": [
        "sec.head(10)\n",
        "# Adj Close: 수정 종가\n",
        "# 수정 종가는 액면 분할 등으로 주식 가격에 변동이 있을 경우 가격 변동 이전에 거래된 가격을 현재 주식 가격에 맞춰 수정하여 표시한 가격"
      ],
      "metadata": {
        "colab": {
          "base_uri": "https://localhost:8080/",
          "height": 394
        },
        "id": "MqRCeyoLlCaA",
        "outputId": "8581ab74-a9cc-45fe-d75e-c6c77fef0cbc"
      },
      "execution_count": null,
      "outputs": [
        {
          "output_type": "execute_result",
          "data": {
            "text/html": [
              "\n",
              "  <div id=\"df-6b09740a-efbe-44c6-847c-7cd9102cadbb\">\n",
              "    <div class=\"colab-df-container\">\n",
              "      <div>\n",
              "<style scoped>\n",
              "    .dataframe tbody tr th:only-of-type {\n",
              "        vertical-align: middle;\n",
              "    }\n",
              "\n",
              "    .dataframe tbody tr th {\n",
              "        vertical-align: top;\n",
              "    }\n",
              "\n",
              "    .dataframe thead th {\n",
              "        text-align: right;\n",
              "    }\n",
              "</style>\n",
              "<table border=\"1\" class=\"dataframe\">\n",
              "  <thead>\n",
              "    <tr style=\"text-align: right;\">\n",
              "      <th></th>\n",
              "      <th>Open</th>\n",
              "      <th>High</th>\n",
              "      <th>Low</th>\n",
              "      <th>Close</th>\n",
              "      <th>Adj Close</th>\n",
              "      <th>Volume</th>\n",
              "    </tr>\n",
              "    <tr>\n",
              "      <th>Date</th>\n",
              "      <th></th>\n",
              "      <th></th>\n",
              "      <th></th>\n",
              "      <th></th>\n",
              "      <th></th>\n",
              "      <th></th>\n",
              "    </tr>\n",
              "  </thead>\n",
              "  <tbody>\n",
              "    <tr>\n",
              "      <th>2022-01-04</th>\n",
              "      <td>78800.0</td>\n",
              "      <td>79200.0</td>\n",
              "      <td>78300.0</td>\n",
              "      <td>78700.0</td>\n",
              "      <td>78700.0</td>\n",
              "      <td>12427416</td>\n",
              "    </tr>\n",
              "    <tr>\n",
              "      <th>2022-01-05</th>\n",
              "      <td>78800.0</td>\n",
              "      <td>79000.0</td>\n",
              "      <td>76400.0</td>\n",
              "      <td>77400.0</td>\n",
              "      <td>77400.0</td>\n",
              "      <td>25470640</td>\n",
              "    </tr>\n",
              "    <tr>\n",
              "      <th>2022-01-06</th>\n",
              "      <td>76700.0</td>\n",
              "      <td>77600.0</td>\n",
              "      <td>76600.0</td>\n",
              "      <td>76900.0</td>\n",
              "      <td>76900.0</td>\n",
              "      <td>12931954</td>\n",
              "    </tr>\n",
              "    <tr>\n",
              "      <th>2022-01-07</th>\n",
              "      <td>78100.0</td>\n",
              "      <td>78400.0</td>\n",
              "      <td>77400.0</td>\n",
              "      <td>78300.0</td>\n",
              "      <td>78300.0</td>\n",
              "      <td>15163757</td>\n",
              "    </tr>\n",
              "    <tr>\n",
              "      <th>2022-01-10</th>\n",
              "      <td>78100.0</td>\n",
              "      <td>78100.0</td>\n",
              "      <td>77100.0</td>\n",
              "      <td>78000.0</td>\n",
              "      <td>78000.0</td>\n",
              "      <td>9947422</td>\n",
              "    </tr>\n",
              "    <tr>\n",
              "      <th>2022-01-11</th>\n",
              "      <td>78400.0</td>\n",
              "      <td>79000.0</td>\n",
              "      <td>78000.0</td>\n",
              "      <td>78900.0</td>\n",
              "      <td>78900.0</td>\n",
              "      <td>13221123</td>\n",
              "    </tr>\n",
              "    <tr>\n",
              "      <th>2022-01-12</th>\n",
              "      <td>79500.0</td>\n",
              "      <td>79600.0</td>\n",
              "      <td>78600.0</td>\n",
              "      <td>78900.0</td>\n",
              "      <td>78900.0</td>\n",
              "      <td>11000502</td>\n",
              "    </tr>\n",
              "    <tr>\n",
              "      <th>2022-01-13</th>\n",
              "      <td>79300.0</td>\n",
              "      <td>79300.0</td>\n",
              "      <td>77900.0</td>\n",
              "      <td>77900.0</td>\n",
              "      <td>77900.0</td>\n",
              "      <td>13889401</td>\n",
              "    </tr>\n",
              "    <tr>\n",
              "      <th>2022-01-14</th>\n",
              "      <td>77700.0</td>\n",
              "      <td>78100.0</td>\n",
              "      <td>77100.0</td>\n",
              "      <td>77300.0</td>\n",
              "      <td>77300.0</td>\n",
              "      <td>10096725</td>\n",
              "    </tr>\n",
              "    <tr>\n",
              "      <th>2022-01-17</th>\n",
              "      <td>77600.0</td>\n",
              "      <td>77800.0</td>\n",
              "      <td>76900.0</td>\n",
              "      <td>77500.0</td>\n",
              "      <td>77500.0</td>\n",
              "      <td>8785122</td>\n",
              "    </tr>\n",
              "  </tbody>\n",
              "</table>\n",
              "</div>\n",
              "      <button class=\"colab-df-convert\" onclick=\"convertToInteractive('df-6b09740a-efbe-44c6-847c-7cd9102cadbb')\"\n",
              "              title=\"Convert this dataframe to an interactive table.\"\n",
              "              style=\"display:none;\">\n",
              "        \n",
              "  <svg xmlns=\"http://www.w3.org/2000/svg\" height=\"24px\"viewBox=\"0 0 24 24\"\n",
              "       width=\"24px\">\n",
              "    <path d=\"M0 0h24v24H0V0z\" fill=\"none\"/>\n",
              "    <path d=\"M18.56 5.44l.94 2.06.94-2.06 2.06-.94-2.06-.94-.94-2.06-.94 2.06-2.06.94zm-11 1L8.5 8.5l.94-2.06 2.06-.94-2.06-.94L8.5 2.5l-.94 2.06-2.06.94zm10 10l.94 2.06.94-2.06 2.06-.94-2.06-.94-.94-2.06-.94 2.06-2.06.94z\"/><path d=\"M17.41 7.96l-1.37-1.37c-.4-.4-.92-.59-1.43-.59-.52 0-1.04.2-1.43.59L10.3 9.45l-7.72 7.72c-.78.78-.78 2.05 0 2.83L4 21.41c.39.39.9.59 1.41.59.51 0 1.02-.2 1.41-.59l7.78-7.78 2.81-2.81c.8-.78.8-2.07 0-2.86zM5.41 20L4 18.59l7.72-7.72 1.47 1.35L5.41 20z\"/>\n",
              "  </svg>\n",
              "      </button>\n",
              "      \n",
              "  <style>\n",
              "    .colab-df-container {\n",
              "      display:flex;\n",
              "      flex-wrap:wrap;\n",
              "      gap: 12px;\n",
              "    }\n",
              "\n",
              "    .colab-df-convert {\n",
              "      background-color: #E8F0FE;\n",
              "      border: none;\n",
              "      border-radius: 50%;\n",
              "      cursor: pointer;\n",
              "      display: none;\n",
              "      fill: #1967D2;\n",
              "      height: 32px;\n",
              "      padding: 0 0 0 0;\n",
              "      width: 32px;\n",
              "    }\n",
              "\n",
              "    .colab-df-convert:hover {\n",
              "      background-color: #E2EBFA;\n",
              "      box-shadow: 0px 1px 2px rgba(60, 64, 67, 0.3), 0px 1px 3px 1px rgba(60, 64, 67, 0.15);\n",
              "      fill: #174EA6;\n",
              "    }\n",
              "\n",
              "    [theme=dark] .colab-df-convert {\n",
              "      background-color: #3B4455;\n",
              "      fill: #D2E3FC;\n",
              "    }\n",
              "\n",
              "    [theme=dark] .colab-df-convert:hover {\n",
              "      background-color: #434B5C;\n",
              "      box-shadow: 0px 1px 3px 1px rgba(0, 0, 0, 0.15);\n",
              "      filter: drop-shadow(0px 1px 2px rgba(0, 0, 0, 0.3));\n",
              "      fill: #FFFFFF;\n",
              "    }\n",
              "  </style>\n",
              "\n",
              "      <script>\n",
              "        const buttonEl =\n",
              "          document.querySelector('#df-6b09740a-efbe-44c6-847c-7cd9102cadbb button.colab-df-convert');\n",
              "        buttonEl.style.display =\n",
              "          google.colab.kernel.accessAllowed ? 'block' : 'none';\n",
              "\n",
              "        async function convertToInteractive(key) {\n",
              "          const element = document.querySelector('#df-6b09740a-efbe-44c6-847c-7cd9102cadbb');\n",
              "          const dataTable =\n",
              "            await google.colab.kernel.invokeFunction('convertToInteractive',\n",
              "                                                     [key], {});\n",
              "          if (!dataTable) return;\n",
              "\n",
              "          const docLinkHtml = 'Like what you see? Visit the ' +\n",
              "            '<a target=\"_blank\" href=https://colab.research.google.com/notebooks/data_table.ipynb>data table notebook</a>'\n",
              "            + ' to learn more about interactive tables.';\n",
              "          element.innerHTML = '';\n",
              "          dataTable['output_type'] = 'display_data';\n",
              "          await google.colab.output.renderOutput(dataTable, element);\n",
              "          const docLink = document.createElement('div');\n",
              "          docLink.innerHTML = docLinkHtml;\n",
              "          element.appendChild(docLink);\n",
              "        }\n",
              "      </script>\n",
              "    </div>\n",
              "  </div>\n",
              "  "
            ],
            "text/plain": [
              "               Open     High      Low    Close  Adj Close    Volume\n",
              "Date                                                               \n",
              "2022-01-04  78800.0  79200.0  78300.0  78700.0    78700.0  12427416\n",
              "2022-01-05  78800.0  79000.0  76400.0  77400.0    77400.0  25470640\n",
              "2022-01-06  76700.0  77600.0  76600.0  76900.0    76900.0  12931954\n",
              "2022-01-07  78100.0  78400.0  77400.0  78300.0    78300.0  15163757\n",
              "2022-01-10  78100.0  78100.0  77100.0  78000.0    78000.0   9947422\n",
              "2022-01-11  78400.0  79000.0  78000.0  78900.0    78900.0  13221123\n",
              "2022-01-12  79500.0  79600.0  78600.0  78900.0    78900.0  11000502\n",
              "2022-01-13  79300.0  79300.0  77900.0  77900.0    77900.0  13889401\n",
              "2022-01-14  77700.0  78100.0  77100.0  77300.0    77300.0  10096725\n",
              "2022-01-17  77600.0  77800.0  76900.0  77500.0    77500.0   8785122"
            ]
          },
          "metadata": {},
          "execution_count": 12
        }
      ]
    },
    {
      "cell_type": "code",
      "source": [
        "tmp_msft = msft.drop(columns='Volume') # 거래량 제거\n",
        "tmp_msft.tail()"
      ],
      "metadata": {
        "colab": {
          "base_uri": "https://localhost:8080/",
          "height": 238
        },
        "id": "t28Zn1RNlSwd",
        "outputId": "c6363e86-64e7-460a-8ea5-ac22e877c9a7"
      },
      "execution_count": null,
      "outputs": [
        {
          "output_type": "execute_result",
          "data": {
            "text/html": [
              "\n",
              "  <div id=\"df-e4f6fd8a-a6bf-4ae4-922a-8a89a095504e\">\n",
              "    <div class=\"colab-df-container\">\n",
              "      <div>\n",
              "<style scoped>\n",
              "    .dataframe tbody tr th:only-of-type {\n",
              "        vertical-align: middle;\n",
              "    }\n",
              "\n",
              "    .dataframe tbody tr th {\n",
              "        vertical-align: top;\n",
              "    }\n",
              "\n",
              "    .dataframe thead th {\n",
              "        text-align: right;\n",
              "    }\n",
              "</style>\n",
              "<table border=\"1\" class=\"dataframe\">\n",
              "  <thead>\n",
              "    <tr style=\"text-align: right;\">\n",
              "      <th></th>\n",
              "      <th>Open</th>\n",
              "      <th>High</th>\n",
              "      <th>Low</th>\n",
              "      <th>Close</th>\n",
              "      <th>Adj Close</th>\n",
              "    </tr>\n",
              "    <tr>\n",
              "      <th>Date</th>\n",
              "      <th></th>\n",
              "      <th></th>\n",
              "      <th></th>\n",
              "      <th></th>\n",
              "      <th></th>\n",
              "    </tr>\n",
              "  </thead>\n",
              "  <tbody>\n",
              "    <tr>\n",
              "      <th>2022-02-22</th>\n",
              "      <td>285.000000</td>\n",
              "      <td>291.540009</td>\n",
              "      <td>284.500000</td>\n",
              "      <td>287.720001</td>\n",
              "      <td>287.720001</td>\n",
              "    </tr>\n",
              "    <tr>\n",
              "      <th>2022-02-23</th>\n",
              "      <td>290.179993</td>\n",
              "      <td>291.700012</td>\n",
              "      <td>280.100006</td>\n",
              "      <td>280.269989</td>\n",
              "      <td>280.269989</td>\n",
              "    </tr>\n",
              "    <tr>\n",
              "      <th>2022-02-24</th>\n",
              "      <td>272.510010</td>\n",
              "      <td>295.160004</td>\n",
              "      <td>271.519989</td>\n",
              "      <td>294.589996</td>\n",
              "      <td>294.589996</td>\n",
              "    </tr>\n",
              "    <tr>\n",
              "      <th>2022-02-25</th>\n",
              "      <td>295.140015</td>\n",
              "      <td>297.630005</td>\n",
              "      <td>291.649994</td>\n",
              "      <td>297.309998</td>\n",
              "      <td>297.309998</td>\n",
              "    </tr>\n",
              "    <tr>\n",
              "      <th>2022-02-28</th>\n",
              "      <td>294.309998</td>\n",
              "      <td>299.140015</td>\n",
              "      <td>293.000000</td>\n",
              "      <td>298.790009</td>\n",
              "      <td>298.790009</td>\n",
              "    </tr>\n",
              "  </tbody>\n",
              "</table>\n",
              "</div>\n",
              "      <button class=\"colab-df-convert\" onclick=\"convertToInteractive('df-e4f6fd8a-a6bf-4ae4-922a-8a89a095504e')\"\n",
              "              title=\"Convert this dataframe to an interactive table.\"\n",
              "              style=\"display:none;\">\n",
              "        \n",
              "  <svg xmlns=\"http://www.w3.org/2000/svg\" height=\"24px\"viewBox=\"0 0 24 24\"\n",
              "       width=\"24px\">\n",
              "    <path d=\"M0 0h24v24H0V0z\" fill=\"none\"/>\n",
              "    <path d=\"M18.56 5.44l.94 2.06.94-2.06 2.06-.94-2.06-.94-.94-2.06-.94 2.06-2.06.94zm-11 1L8.5 8.5l.94-2.06 2.06-.94-2.06-.94L8.5 2.5l-.94 2.06-2.06.94zm10 10l.94 2.06.94-2.06 2.06-.94-2.06-.94-.94-2.06-.94 2.06-2.06.94z\"/><path d=\"M17.41 7.96l-1.37-1.37c-.4-.4-.92-.59-1.43-.59-.52 0-1.04.2-1.43.59L10.3 9.45l-7.72 7.72c-.78.78-.78 2.05 0 2.83L4 21.41c.39.39.9.59 1.41.59.51 0 1.02-.2 1.41-.59l7.78-7.78 2.81-2.81c.8-.78.8-2.07 0-2.86zM5.41 20L4 18.59l7.72-7.72 1.47 1.35L5.41 20z\"/>\n",
              "  </svg>\n",
              "      </button>\n",
              "      \n",
              "  <style>\n",
              "    .colab-df-container {\n",
              "      display:flex;\n",
              "      flex-wrap:wrap;\n",
              "      gap: 12px;\n",
              "    }\n",
              "\n",
              "    .colab-df-convert {\n",
              "      background-color: #E8F0FE;\n",
              "      border: none;\n",
              "      border-radius: 50%;\n",
              "      cursor: pointer;\n",
              "      display: none;\n",
              "      fill: #1967D2;\n",
              "      height: 32px;\n",
              "      padding: 0 0 0 0;\n",
              "      width: 32px;\n",
              "    }\n",
              "\n",
              "    .colab-df-convert:hover {\n",
              "      background-color: #E2EBFA;\n",
              "      box-shadow: 0px 1px 2px rgba(60, 64, 67, 0.3), 0px 1px 3px 1px rgba(60, 64, 67, 0.15);\n",
              "      fill: #174EA6;\n",
              "    }\n",
              "\n",
              "    [theme=dark] .colab-df-convert {\n",
              "      background-color: #3B4455;\n",
              "      fill: #D2E3FC;\n",
              "    }\n",
              "\n",
              "    [theme=dark] .colab-df-convert:hover {\n",
              "      background-color: #434B5C;\n",
              "      box-shadow: 0px 1px 3px 1px rgba(0, 0, 0, 0.15);\n",
              "      filter: drop-shadow(0px 1px 2px rgba(0, 0, 0, 0.3));\n",
              "      fill: #FFFFFF;\n",
              "    }\n",
              "  </style>\n",
              "\n",
              "      <script>\n",
              "        const buttonEl =\n",
              "          document.querySelector('#df-e4f6fd8a-a6bf-4ae4-922a-8a89a095504e button.colab-df-convert');\n",
              "        buttonEl.style.display =\n",
              "          google.colab.kernel.accessAllowed ? 'block' : 'none';\n",
              "\n",
              "        async function convertToInteractive(key) {\n",
              "          const element = document.querySelector('#df-e4f6fd8a-a6bf-4ae4-922a-8a89a095504e');\n",
              "          const dataTable =\n",
              "            await google.colab.kernel.invokeFunction('convertToInteractive',\n",
              "                                                     [key], {});\n",
              "          if (!dataTable) return;\n",
              "\n",
              "          const docLinkHtml = 'Like what you see? Visit the ' +\n",
              "            '<a target=\"_blank\" href=https://colab.research.google.com/notebooks/data_table.ipynb>data table notebook</a>'\n",
              "            + ' to learn more about interactive tables.';\n",
              "          element.innerHTML = '';\n",
              "          dataTable['output_type'] = 'display_data';\n",
              "          await google.colab.output.renderOutput(dataTable, element);\n",
              "          const docLink = document.createElement('div');\n",
              "          docLink.innerHTML = docLinkHtml;\n",
              "          element.appendChild(docLink);\n",
              "        }\n",
              "      </script>\n",
              "    </div>\n",
              "  </div>\n",
              "  "
            ],
            "text/plain": [
              "                  Open        High         Low       Close   Adj Close\n",
              "Date                                                                  \n",
              "2022-02-22  285.000000  291.540009  284.500000  287.720001  287.720001\n",
              "2022-02-23  290.179993  291.700012  280.100006  280.269989  280.269989\n",
              "2022-02-24  272.510010  295.160004  271.519989  294.589996  294.589996\n",
              "2022-02-25  295.140015  297.630005  291.649994  297.309998  297.309998\n",
              "2022-02-28  294.309998  299.140015  293.000000  298.790009  298.790009"
            ]
          },
          "metadata": {},
          "execution_count": 16
        }
      ]
    },
    {
      "cell_type": "code",
      "source": [
        "len(sec.index) # 총 37\n",
        "len(tmp_msft) # 총 39"
      ],
      "metadata": {
        "colab": {
          "base_uri": "https://localhost:8080/"
        },
        "id": "A3ZbPYzPmjsg",
        "outputId": "1fbadfc3-4534-429e-c2d8-78de78e07978"
      },
      "execution_count": null,
      "outputs": [
        {
          "output_type": "execute_result",
          "data": {
            "text/plain": [
              "39"
            ]
          },
          "metadata": {},
          "execution_count": 21
        }
      ]
    },
    {
      "cell_type": "code",
      "source": [
        "sec.columns"
      ],
      "metadata": {
        "colab": {
          "base_uri": "https://localhost:8080/"
        },
        "id": "Q2URBM77nPxc",
        "outputId": "b228234e-4619-4fff-e90e-41bc08fd22ce"
      },
      "execution_count": null,
      "outputs": [
        {
          "output_type": "execute_result",
          "data": {
            "text/plain": [
              "Index(['Open', 'High', 'Low', 'Close', 'Adj Close', 'Volume'], dtype='object')"
            ]
          },
          "metadata": {},
          "execution_count": 20
        }
      ]
    },
    {
      "cell_type": "code",
      "source": [
        "from pandas_datareader import data as pdr\n",
        "import yfinance as yf\n",
        "\n",
        "yf.pdr_override()\n",
        "\n",
        "sec = pdr.get_data_yahoo('005930.KS', start='2018-05-04') # 삼성전자\n",
        "msft = pdr.get_data_yahoo('MSFT', start='2018-05-04') # 마이크로소프트\n",
        "\n",
        "# 시각화\n",
        "import matplotlib.pyplot as plt\n",
        "\n",
        "# 삼성전자는 원, 마이크로소프트는 달러이기 때문에\n",
        "# 마이크로소프트가 0에 가까운 직선으로 표시된다.\n",
        "# 이는 수익률 비교가 어렵기 때문에 일간 변동률을 이용해 비교하는 법을 알아보자\n",
        "plt.plot(sec.index, sec.Close, 'b', label='Samsung Electronics')\n",
        "plt.plot(msft.index, msft.Close, 'r--', label='Microsoft')\n",
        "plt.legend(loc='best')\n",
        "plt.xticks(fontsize=8)\n",
        "plt.show()"
      ],
      "metadata": {
        "colab": {
          "base_uri": "https://localhost:8080/",
          "height": 300
        },
        "id": "K0QG1kGSna5G",
        "outputId": "c04b8f59-b535-448d-f7f9-e95e34b041a5"
      },
      "execution_count": null,
      "outputs": [
        {
          "output_type": "stream",
          "name": "stdout",
          "text": [
            "[*********************100%***********************]  1 of 1 completed\n",
            "[*********************100%***********************]  1 of 1 completed\n"
          ]
        },
        {
          "output_type": "display_data",
          "data": {
            "image/png": "[encoded data removed]",
            "text/plain": [
              "<Figure size 432x288 with 1 Axes>"
            ]
          },
          "metadata": {
            "needs_background": "light"
          }
        }
      ]
    },
    {
      "cell_type": "code",
      "source": [
        "# 일간 변동률 (가격이 다른 두 주가의 수익률을 비교할 수 있음)\n",
        "# 오늘 변동률 = ((오늘 종가 - 어제 종가) / 어제 종가) x 100\n",
        "# 위 식은 시리즈 모듈에서 제공하는 shift() 함수를 사용하면 된다.\n",
        "\n",
        "print(type(sec['Close'])) # 시리즈\n",
        "print(sec['Close'])"
      ],
      "metadata": {
        "colab": {
          "base_uri": "https://localhost:8080/"
        },
        "id": "6nLeY-kjoJ8o",
        "outputId": "bb00fb87-102e-4d5d-99bf-4b9d02b1f1e5"
      },
      "execution_count": null,
      "outputs": [
        {
          "output_type": "stream",
          "name": "stdout",
          "text": [
            "<class 'pandas.core.series.Series'>\n",
            "Date\n",
            "2018-05-04    51900.0\n",
            "2018-05-08    52600.0\n",
            "2018-05-09    50900.0\n",
            "2018-05-10    51600.0\n",
            "2018-05-11    51300.0\n",
            "               ...   \n",
            "2022-02-22    74300.0\n",
            "2022-02-23    74300.0\n",
            "2022-02-24    71500.0\n",
            "2022-02-25    71900.0\n",
            "2022-02-28    71900.0\n",
            "Name: Close, Length: 939, dtype: float64\n"
          ]
        }
      ]
    },
    {
      "cell_type": "code",
      "source": [
        "# shift() 함수\n",
        "# 이것을 쓰는 이유: 어제 종가를 구하기 위해(5월 4일의 종가는 5월 8일의 어제 종가이다.)\n",
        "sec['Close'].shift(1) # 데이터를 1줄 이동시킨다."
      ],
      "metadata": {
        "colab": {
          "base_uri": "https://localhost:8080/"
        },
        "id": "_V486xwKpv0e",
        "outputId": "ad4775ec-84c6-46a7-8fb9-f118c15ba2b1"
      },
      "execution_count": null,
      "outputs": [
        {
          "output_type": "execute_result",
          "data": {
            "text/plain": [
              "Date\n",
              "2018-05-04        NaN\n",
              "2018-05-08    51900.0\n",
              "2018-05-09    52600.0\n",
              "2018-05-10    50900.0\n",
              "2018-05-11    51600.0\n",
              "               ...   \n",
              "2022-02-22    74300.0\n",
              "2022-02-23    74300.0\n",
              "2022-02-24    74300.0\n",
              "2022-02-25    71500.0\n",
              "2022-02-28    71900.0\n",
              "Name: Close, Length: 939, dtype: float64"
            ]
          },
          "metadata": {},
          "execution_count": 32
        }
      ]
    },
    {
      "cell_type": "code",
      "source": [
        "# 일간 변동률\n",
        "sec_dpc = (sec['Close'] / sec['Close'].shift(1) - 1) * 100\n",
        "sec_dpc.head()"
      ],
      "metadata": {
        "colab": {
          "base_uri": "https://localhost:8080/"
        },
        "id": "XanD-7tfqF9V",
        "outputId": "12a421f9-7cac-4869-c757-c135ec354fb5"
      },
      "execution_count": null,
      "outputs": [
        {
          "output_type": "execute_result",
          "data": {
            "text/plain": [
              "Date\n",
              "2018-05-04         NaN\n",
              "2018-05-08    1.348748\n",
              "2018-05-09   -3.231939\n",
              "2018-05-10    1.375246\n",
              "2018-05-11   -0.581395\n",
              "Name: Close, dtype: float64"
            ]
          },
          "metadata": {},
          "execution_count": 33
        }
      ]
    },
    {
      "cell_type": "code",
      "source": [
        "# Nan은 향후 계산을 위해 0으로 변경할 필요가 있음\n",
        "sec_dpc.iloc[0] = 0\n",
        "sec_dpc.head()"
      ],
      "metadata": {
        "colab": {
          "base_uri": "https://localhost:8080/"
        },
        "id": "n7ErnyUbrIbG",
        "outputId": "9b799c78-11a4-4d9b-a88c-3eff08406f66"
      },
      "execution_count": null,
      "outputs": [
        {
          "output_type": "execute_result",
          "data": {
            "text/plain": [
              "Date\n",
              "2018-05-04    0.000000\n",
              "2018-05-08    1.348748\n",
              "2018-05-09   -3.231939\n",
              "2018-05-10    1.375246\n",
              "2018-05-11   -0.581395\n",
              "Name: Close, dtype: float64"
            ]
          },
          "metadata": {},
          "execution_count": 37
        }
      ]
    },
    {
      "cell_type": "code",
      "source": [
        "# 주가 일간 변동률 히스토그램 (빈도)\n",
        "import matplotlib.pyplot as plt\n",
        "\n",
        "sec_dpc = (sec['Close'] / sec['Close'].shift(1) - 1) * 100\n",
        "sec_dpc.iloc[0] = 0\n",
        "plt.hist(sec_dpc, bins=18) # bins는 구간을 의미함(디폴트값은 10)\n",
        "plt.grid(True)\n",
        "plt.show()"
      ],
      "metadata": {
        "colab": {
          "base_uri": "https://localhost:8080/",
          "height": 265
        },
        "id": "hv2w3TiLrYtM",
        "outputId": "e81cabb6-212c-4729-ce3e-f0ad13095c87"
      },
      "execution_count": null,
      "outputs": [
        {
          "output_type": "display_data",
          "data": {
            "image/png": "[encoded data removed]",
            "text/plain": [
              "<Figure size 432x288 with 1 Axes>"
            ]
          },
          "metadata": {
            "needs_background": "light"
          }
        }
      ]
    },
    {
      "cell_type": "code",
      "source": [
        "# 급첨 분포: 정규분포보다 중앙 부분이 더 뽀족\n",
        "# 펫 테일: 분포의 양쪽 꼬리가 더 두터운 것으로 알려짐\n",
        "\n",
        "# 급첨 분포는 정규 분포와 비교했ㅇ르 때 주가의 움직임이 대부분 매우 작은 범위 안에서 발생\n",
        "# 펫테일은 정규분포보다 큰 가격 변동이 발생"
      ],
      "metadata": {
        "id": "MtMiSI2OsHrW"
      },
      "execution_count": null,
      "outputs": []
    },
    {
      "cell_type": "code",
      "source": [
        "sec_dpc.describe()\n",
        "# 평균: 0.048243\n",
        "# 표준편차: 1.649270"
      ],
      "metadata": {
        "colab": {
          "base_uri": "https://localhost:8080/"
        },
        "id": "kt7RVxTitaXg",
        "outputId": "6a32a46b-a072-4b3a-ae41-ceabc085c38d"
      },
      "execution_count": null,
      "outputs": [
        {
          "output_type": "execute_result",
          "data": {
            "text/plain": [
              "count    939.000000\n",
              "mean       0.048243\n",
              "std        1.649270\n",
              "min       -6.387665\n",
              "25%       -0.959299\n",
              "50%        0.000000\n",
              "75%        0.958259\n",
              "max       10.470588\n",
              "Name: Close, dtype: float64"
            ]
          },
          "metadata": {},
          "execution_count": 40
        }
      ]
    },
    {
      "cell_type": "code",
      "source": [
        "# 일간 변동률 누적합 구하기\n",
        "# 종목별 전체 변동률을 비교해보려면 일간 변동률의 누적합을 계산해아함\n",
        "# cumsum() 으로 누적합을 구할 수 있음\n",
        "sec_dpc_cs = sec_dpc.cumsum()\n",
        "sec_dpc_cs['2019-09-06'] # -7% 손실을 볼 수 있음"
      ],
      "metadata": {
        "colab": {
          "base_uri": "https://localhost:8080/"
        },
        "id": "FRRVtNNjtefl",
        "outputId": "4eeee017-b461-4dc9-8ac3-5904cbf6e293"
      },
      "execution_count": null,
      "outputs": [
        {
          "output_type": "execute_result",
          "data": {
            "text/plain": [
              "-7.505624131988454"
            ]
          },
          "metadata": {},
          "execution_count": 48
        }
      ]
    },
    {
      "cell_type": "code",
      "source": [
        "from pandas_datareader import data as pdr\n",
        "import yfinance as yf\n",
        "\n",
        "yf.pdr_override()\n",
        "\n",
        "sec = pdr.get_data_yahoo('005930.KS', start='2018-05-04') # 삼성전자\n",
        "sec_dpc = (sec['Close'] / sec['Close'].shift(1) - 1) * 100\n",
        "sec_dpc.iloc[0] = 0\n",
        "sec_dpc_cs = sec_dpc.cumsum()\n",
        "\n",
        "msft = pdr.get_data_yahoo('MSFT', start='2018-05-04') # 마이크로소프트\n",
        "msft_dpc = (msft['Close'] / msft['Close'].shift(1) - 1) * 100\n",
        "msft_dpc.iloc[0] = 0\n",
        "msft_dpc_cs = msft_dpc.cumsum()\n",
        "\n",
        "# 삼성전자와 마이크로소프트 주식 수익률 비교\n",
        "# 2022-01 기준 마이크로소프트는 125% 이상, 삼성전자는 50% 이상의 수익률이 보인다.\n",
        "import matplotlib.pyplot as plt\n",
        "plt.plot(sec.index, sec_dpc_cs, 'b', label='Samsung Electronics')\n",
        "plt.plot(msft.index, msft_dpc_cs, 'r--', label='Microsoft')\n",
        "plt.ylabel('Change %')\n",
        "plt.grid(True)\n",
        "plt.legend(loc='best')\n",
        "plt.show()"
      ],
      "metadata": {
        "colab": {
          "base_uri": "https://localhost:8080/",
          "height": 302
        },
        "id": "aImDOOqwucJC",
        "outputId": "81e10725-8e58-461e-959a-5c99089ce150"
      },
      "execution_count": null,
      "outputs": [
        {
          "output_type": "stream",
          "name": "stdout",
          "text": [
            "[*********************100%***********************]  1 of 1 completed\n",
            "[*********************100%***********************]  1 of 1 completed\n"
          ]
        },
        {
          "output_type": "display_data",
          "data": {
            "image/png": "[encoded data removed]",
            "text/plain": [
              "<Figure size 432x288 with 1 Axes>"
            ]
          },
          "metadata": {
            "needs_background": "light"
          }
        }
      ]
    },
    {
      "cell_type": "code",
      "source": [
        "# 최대 손실 낙폭 (MDD)\n",
        "# 특정 기간에 발생한 최고점에서 최저점까지의 가장 큰 손실을 의미 (특정 기간동안 얼마나 손실이 났는지)\n",
        "# MDD = (최저점 - 최고점) / 최저점"
      ],
      "metadata": {
        "id": "8YGollz4wo3z"
      },
      "execution_count": null,
      "outputs": []
    },
    {
      "cell_type": "code",
      "source": [
        "# rolling() 함수란\n",
        "# 시리즈에서 윈도우 크기에 해당하는 개수만큼 데이터를 추출하여 집계 함수에 해당하는 연산을 실시함\n",
        "# 집계 함수로는 max(), mean(), min()을 사용할 수 있음.\n",
        "# min_periods를 지정하면 데이터 개수가 윈도우 크기에 못미치더라도 지정한 개수만 만족하면 연산을 수행한다."
      ],
      "metadata": {
        "id": "SL22HgOQVG1b"
      },
      "execution_count": null,
      "outputs": []
    },
    {
      "cell_type": "code",
      "source": [
        "# 코스피의 mdd 구하기\n",
        "from pandas_datareader import data as pdr\n",
        "import yfinance as yf\n",
        "yf.pdr_override()\n",
        "import matplotlib.pyplot as plt\n",
        "\n",
        "kospi = pdr.get_data_yahoo(\"^KS11\", '2004-01-04')\n",
        "\n",
        "# 산정기간 ( 1년동안 개장일을 252일로 어림잡음)\n",
        "window = 252\n",
        "# 1년 (거래일 기준) 기간 단위로 최고치 peak를 구함\n",
        "peak = kospi['Adj Close'].rolling(window, min_periods=1).max()\n",
        "# drawdown은 최고치(peak) 대비 현재 kospi 종가가 얼마나 하락햇는지 구함\n",
        "drawdown = kospi['Adj Close']/peak - 1.0\n",
        "# drawdown에서 1년 기간 단위로 최저치 max_dd를 구함 마이너스값이기 때문에 최저치가 바로 최대 손실 난폭이 됨\n",
        "max_dd = drawdown.rolling(window, min_periods=1).min()\n",
        "\n",
        "plt.figure(figsize=(9, 7))\n",
        "plt.subplot(211) # 2행 1열 중 1행에 그린다.\n",
        "kospi['Close'].plot(label='KOSPI', title ='KOSPI MDD', grid=True, legend=True)\n",
        "plt.subplot(212)\n",
        "drawdown.plot(c='blue', label='KOSPI DD', grid=True, legend=True) \n",
        "max_dd.plot(c='red', label='KOSPI MDD', grid=True, legend=True) \n",
        "plt.show()"
      ],
      "metadata": {
        "colab": {
          "base_uri": "https://localhost:8080/",
          "height": 450
        },
        "id": "EDEHo_5WVndi",
        "outputId": "fc106d47-83bb-4b52-b66d-621af25b0c97"
      },
      "execution_count": null,
      "outputs": [
        {
          "output_type": "stream",
          "name": "stdout",
          "text": [
            "\r[*********************100%***********************]  1 of 1 completed\n"
          ]
        },
        {
          "output_type": "display_data",
          "data": {
            "image/png": "[encoded data removed]",
            "text/plain": [
              "<Figure size 648x504 with 2 Axes>"
            ]
          },
          "metadata": {
            "needs_background": "light"
          }
        }
      ]
    },
    {
      "cell_type": "code",
      "source": [
        "# kpspi와 다우존스 지수 비교\n",
        "from pandas_datareader import data as pdr\n",
        "import yfinance as yf\n",
        "yf.pdr_override()\n",
        "\n",
        "dow = pdr.get_data_yahoo('^DJI', '2000-01-04') # 다우존스\n",
        "kospi = pdr.get_data_yahoo('^ks11', '2000-01-04') # 코스피\n",
        "\n",
        "# 지수 기준값이 달라서, 어느 지수가 더 좋은 성과를 냈는지 한눈에 알아보기 어려움\n",
        "import matplotlib.pyplot as plt\n",
        "plt.figure(figsize=(9, 5))\n",
        "plt.plot(dow.index, dow.Close, 'r--', label='Dow Jones Industrial')\n",
        "plt.plot(kospi.index, kospi.Close, 'b', label='KOSPI')\n",
        "plt.grid(True)\n",
        "plt.legend(loc='best')\n",
        "plt.show()"
      ],
      "metadata": {
        "id": "56pbohnUWGIG",
        "colab": {
          "base_uri": "https://localhost:8080/",
          "height": 356
        },
        "outputId": "dc687f0f-b032-4c21-abfa-d70cdbb6727c"
      },
      "execution_count": 3,
      "outputs": [
        {
          "output_type": "stream",
          "name": "stdout",
          "text": [
            "[*********************100%***********************]  1 of 1 completed\n",
            "[*********************100%***********************]  1 of 1 completed\n"
          ]
        },
        {
          "output_type": "display_data",
          "data": {
            "image/png": "[encoded data removed]",
            "text/plain": [
              "<Figure size 648x360 with 1 Axes>"
            ]
          },
          "metadata": {
            "needs_background": "light"
          }
        }
      ]
    },
    {
      "cell_type": "code",
      "source": [
        "# 지수화 비교\n",
        "# 오늘 종가를 2000년 1월 4일 종가로 나눈 뒤 100를 곱하면 2000년 1월 4일 대비 오늘의 변동률을 구할 수 있음 -> 지수화\n",
        "\n",
        "d = (dow.Close / dow.Close.loc['2000-01-04']) * 100\n",
        "k = (kospi.Close / kospi.Close.loc['2000-01-04']) * 100\n",
        "\n",
        "import matplotlib.pyplot as plt\n",
        "plt.figure(figsize=(9, 5))\n",
        "plt.plot(d.index, d, 'r--', label='Dow Jones Industrial Average')\n",
        "plt.plot(k.index, k, 'b', label='KOSPI')\n",
        "plt.grid(True)\n",
        "plt.legend(loc='best')\n",
        "plt.show()"
      ],
      "metadata": {
        "colab": {
          "base_uri": "https://localhost:8080/",
          "height": 320
        },
        "id": "Km9wucL2dRTx",
        "outputId": "fc31afce-c535-4968-a28b-33f0eabfa7cb"
      },
      "execution_count": 5,
      "outputs": [
        {
          "output_type": "display_data",
          "data": {
            "image/png": "[encoded data removed]",
            "text/plain": [
              "<Figure size 648x360 with 1 Axes>"
            ]
          },
          "metadata": {
            "needs_background": "light"
          }
        }
      ]
    },
    {
      "cell_type": "code",
      "source": [
        "# 산점도 분석\n",
        "# plt.scatter(dow, kospi, maker='.') # 에러\n",
        "\n",
        "print(len(dow), len(kospi)) # 산점도는 데이터 개수가 같아야하는데 데이터 개수가 다름"
      ],
      "metadata": {
        "colab": {
          "base_uri": "https://localhost:8080/"
        },
        "id": "Dh0mh2rad0vN",
        "outputId": "5b4c96db-8de3-4782-ec49-718406ad7fa9"
      },
      "execution_count": 10,
      "outputs": [
        {
          "output_type": "stream",
          "name": "stdout",
          "text": [
            "5574 5465\n"
          ]
        }
      ]
    },
    {
      "cell_type": "code",
      "source": [
        "import pandas as pd\n",
        "\n",
        "# 데이터 프레임은 빈값을 자동으로  nan값으로 채워준다.\n",
        "df = pd.DataFrame({'Dow': dow['Close'], 'KOSPI': kospi['Close']})\n",
        "df"
      ],
      "metadata": {
        "colab": {
          "base_uri": "https://localhost:8080/",
          "height": 455
        },
        "id": "9VH05RG-etE3",
        "outputId": "1ff6c8e9-5fa7-4b37-c1d7-cbbcaca75121"
      },
      "execution_count": 16,
      "outputs": [
        {
          "output_type": "execute_result",
          "data": {
            "text/html": [
              "\n",
              "  <div id=\"df-5f438964-d60f-4b06-aeb1-f32d8a76db74\">\n",
              "    <div class=\"colab-df-container\">\n",
              "      <div>\n",
              "<style scoped>\n",
              "    .dataframe tbody tr th:only-of-type {\n",
              "        vertical-align: middle;\n",
              "    }\n",
              "\n",
              "    .dataframe tbody tr th {\n",
              "        vertical-align: top;\n",
              "    }\n",
              "\n",
              "    .dataframe thead th {\n",
              "        text-align: right;\n",
              "    }\n",
              "</style>\n",
              "<table border=\"1\" class=\"dataframe\">\n",
              "  <thead>\n",
              "    <tr style=\"text-align: right;\">\n",
              "      <th></th>\n",
              "      <th>Dow</th>\n",
              "      <th>KOSPI</th>\n",
              "    </tr>\n",
              "    <tr>\n",
              "      <th>Date</th>\n",
              "      <th></th>\n",
              "      <th></th>\n",
              "    </tr>\n",
              "  </thead>\n",
              "  <tbody>\n",
              "    <tr>\n",
              "      <th>2000-01-04</th>\n",
              "      <td>10997.929688</td>\n",
              "      <td>1059.040039</td>\n",
              "    </tr>\n",
              "    <tr>\n",
              "      <th>2000-01-05</th>\n",
              "      <td>11122.650391</td>\n",
              "      <td>986.309998</td>\n",
              "    </tr>\n",
              "    <tr>\n",
              "      <th>2000-01-06</th>\n",
              "      <td>11253.259766</td>\n",
              "      <td>960.789978</td>\n",
              "    </tr>\n",
              "    <tr>\n",
              "      <th>2000-01-07</th>\n",
              "      <td>11522.559570</td>\n",
              "      <td>948.650024</td>\n",
              "    </tr>\n",
              "    <tr>\n",
              "      <th>2000-01-10</th>\n",
              "      <td>11572.200195</td>\n",
              "      <td>987.239990</td>\n",
              "    </tr>\n",
              "    <tr>\n",
              "      <th>...</th>\n",
              "      <td>...</td>\n",
              "      <td>...</td>\n",
              "    </tr>\n",
              "    <tr>\n",
              "      <th>2022-02-22</th>\n",
              "      <td>33596.609375</td>\n",
              "      <td>2706.790039</td>\n",
              "    </tr>\n",
              "    <tr>\n",
              "      <th>2022-02-23</th>\n",
              "      <td>33131.761719</td>\n",
              "      <td>2719.530029</td>\n",
              "    </tr>\n",
              "    <tr>\n",
              "      <th>2022-02-24</th>\n",
              "      <td>33223.828125</td>\n",
              "      <td>2648.800049</td>\n",
              "    </tr>\n",
              "    <tr>\n",
              "      <th>2022-02-25</th>\n",
              "      <td>34058.750000</td>\n",
              "      <td>2676.760010</td>\n",
              "    </tr>\n",
              "    <tr>\n",
              "      <th>2022-02-28</th>\n",
              "      <td>33892.601562</td>\n",
              "      <td>2699.179932</td>\n",
              "    </tr>\n",
              "  </tbody>\n",
              "</table>\n",
              "<p>5744 rows × 2 columns</p>\n",
              "</div>\n",
              "      <button class=\"colab-df-convert\" onclick=\"convertToInteractive('df-5f438964-d60f-4b06-aeb1-f32d8a76db74')\"\n",
              "              title=\"Convert this dataframe to an interactive table.\"\n",
              "              style=\"display:none;\">\n",
              "        \n",
              "  <svg xmlns=\"http://www.w3.org/2000/svg\" height=\"24px\"viewBox=\"0 0 24 24\"\n",
              "       width=\"24px\">\n",
              "    <path d=\"M0 0h24v24H0V0z\" fill=\"none\"/>\n",
              "    <path d=\"M18.56 5.44l.94 2.06.94-2.06 2.06-.94-2.06-.94-.94-2.06-.94 2.06-2.06.94zm-11 1L8.5 8.5l.94-2.06 2.06-.94-2.06-.94L8.5 2.5l-.94 2.06-2.06.94zm10 10l.94 2.06.94-2.06 2.06-.94-2.06-.94-.94-2.06-.94 2.06-2.06.94z\"/><path d=\"M17.41 7.96l-1.37-1.37c-.4-.4-.92-.59-1.43-.59-.52 0-1.04.2-1.43.59L10.3 9.45l-7.72 7.72c-.78.78-.78 2.05 0 2.83L4 21.41c.39.39.9.59 1.41.59.51 0 1.02-.2 1.41-.59l7.78-7.78 2.81-2.81c.8-.78.8-2.07 0-2.86zM5.41 20L4 18.59l7.72-7.72 1.47 1.35L5.41 20z\"/>\n",
              "  </svg>\n",
              "      </button>\n",
              "      \n",
              "  <style>\n",
              "    .colab-df-container {\n",
              "      display:flex;\n",
              "      flex-wrap:wrap;\n",
              "      gap: 12px;\n",
              "    }\n",
              "\n",
              "    .colab-df-convert {\n",
              "      background-color: #E8F0FE;\n",
              "      border: none;\n",
              "      border-radius: 50%;\n",
              "      cursor: pointer;\n",
              "      display: none;\n",
              "      fill: #1967D2;\n",
              "      height: 32px;\n",
              "      padding: 0 0 0 0;\n",
              "      width: 32px;\n",
              "    }\n",
              "\n",
              "    .colab-df-convert:hover {\n",
              "      background-color: #E2EBFA;\n",
              "      box-shadow: 0px 1px 2px rgba(60, 64, 67, 0.3), 0px 1px 3px 1px rgba(60, 64, 67, 0.15);\n",
              "      fill: #174EA6;\n",
              "    }\n",
              "\n",
              "    [theme=dark] .colab-df-convert {\n",
              "      background-color: #3B4455;\n",
              "      fill: #D2E3FC;\n",
              "    }\n",
              "\n",
              "    [theme=dark] .colab-df-convert:hover {\n",
              "      background-color: #434B5C;\n",
              "      box-shadow: 0px 1px 3px 1px rgba(0, 0, 0, 0.15);\n",
              "      filter: drop-shadow(0px 1px 2px rgba(0, 0, 0, 0.3));\n",
              "      fill: #FFFFFF;\n",
              "    }\n",
              "  </style>\n",
              "\n",
              "      <script>\n",
              "        const buttonEl =\n",
              "          document.querySelector('#df-5f438964-d60f-4b06-aeb1-f32d8a76db74 button.colab-df-convert');\n",
              "        buttonEl.style.display =\n",
              "          google.colab.kernel.accessAllowed ? 'block' : 'none';\n",
              "\n",
              "        async function convertToInteractive(key) {\n",
              "          const element = document.querySelector('#df-5f438964-d60f-4b06-aeb1-f32d8a76db74');\n",
              "          const dataTable =\n",
              "            await google.colab.kernel.invokeFunction('convertToInteractive',\n",
              "                                                     [key], {});\n",
              "          if (!dataTable) return;\n",
              "\n",
              "          const docLinkHtml = 'Like what you see? Visit the ' +\n",
              "            '<a target=\"_blank\" href=https://colab.research.google.com/notebooks/data_table.ipynb>data table notebook</a>'\n",
              "            + ' to learn more about interactive tables.';\n",
              "          element.innerHTML = '';\n",
              "          dataTable['output_type'] = 'display_data';\n",
              "          await google.colab.output.renderOutput(dataTable, element);\n",
              "          const docLink = document.createElement('div');\n",
              "          docLink.innerHTML = docLinkHtml;\n",
              "          element.appendChild(docLink);\n",
              "        }\n",
              "      </script>\n",
              "    </div>\n",
              "  </div>\n",
              "  "
            ],
            "text/plain": [
              "                     Dow        KOSPI\n",
              "Date                                 \n",
              "2000-01-04  10997.929688  1059.040039\n",
              "2000-01-05  11122.650391   986.309998\n",
              "2000-01-06  11253.259766   960.789978\n",
              "2000-01-07  11522.559570   948.650024\n",
              "2000-01-10  11572.200195   987.239990\n",
              "...                  ...          ...\n",
              "2022-02-22  33596.609375  2706.790039\n",
              "2022-02-23  33131.761719  2719.530029\n",
              "2022-02-24  33223.828125  2648.800049\n",
              "2022-02-25  34058.750000  2676.760010\n",
              "2022-02-28  33892.601562  2699.179932\n",
              "\n",
              "[5744 rows x 2 columns]"
            ]
          },
          "metadata": {},
          "execution_count": 16
        }
      ]
    },
    {
      "cell_type": "code",
      "source": [
        "# 아직 산점도를 출력할려면 nan를 없애야하기 때문에\n",
        "# fillna()의 bfill을 주면 뒤에 있는 값으로 NaN값을 덮어쓴다. (backward fill)\n",
        "df = df.fillna(method='bfill')\n",
        "df"
      ],
      "metadata": {
        "colab": {
          "base_uri": "https://localhost:8080/",
          "height": 455
        },
        "id": "TXPqlgoifG5a",
        "outputId": "e2ab71b1-7588-40e6-e212-5eebe11c9d54"
      },
      "execution_count": 17,
      "outputs": [
        {
          "output_type": "execute_result",
          "data": {
            "text/html": [
              "\n",
              "  <div id=\"df-fe9649fd-195f-4f88-825a-d34e384532d1\">\n",
              "    <div class=\"colab-df-container\">\n",
              "      <div>\n",
              "<style scoped>\n",
              "    .dataframe tbody tr th:only-of-type {\n",
              "        vertical-align: middle;\n",
              "    }\n",
              "\n",
              "    .dataframe tbody tr th {\n",
              "        vertical-align: top;\n",
              "    }\n",
              "\n",
              "    .dataframe thead th {\n",
              "        text-align: right;\n",
              "    }\n",
              "</style>\n",
              "<table border=\"1\" class=\"dataframe\">\n",
              "  <thead>\n",
              "    <tr style=\"text-align: right;\">\n",
              "      <th></th>\n",
              "      <th>Dow</th>\n",
              "      <th>KOSPI</th>\n",
              "    </tr>\n",
              "    <tr>\n",
              "      <th>Date</th>\n",
              "      <th></th>\n",
              "      <th></th>\n",
              "    </tr>\n",
              "  </thead>\n",
              "  <tbody>\n",
              "    <tr>\n",
              "      <th>2000-01-04</th>\n",
              "      <td>10997.929688</td>\n",
              "      <td>1059.040039</td>\n",
              "    </tr>\n",
              "    <tr>\n",
              "      <th>2000-01-05</th>\n",
              "      <td>11122.650391</td>\n",
              "      <td>986.309998</td>\n",
              "    </tr>\n",
              "    <tr>\n",
              "      <th>2000-01-06</th>\n",
              "      <td>11253.259766</td>\n",
              "      <td>960.789978</td>\n",
              "    </tr>\n",
              "    <tr>\n",
              "      <th>2000-01-07</th>\n",
              "      <td>11522.559570</td>\n",
              "      <td>948.650024</td>\n",
              "    </tr>\n",
              "    <tr>\n",
              "      <th>2000-01-10</th>\n",
              "      <td>11572.200195</td>\n",
              "      <td>987.239990</td>\n",
              "    </tr>\n",
              "    <tr>\n",
              "      <th>...</th>\n",
              "      <td>...</td>\n",
              "      <td>...</td>\n",
              "    </tr>\n",
              "    <tr>\n",
              "      <th>2022-02-22</th>\n",
              "      <td>33596.609375</td>\n",
              "      <td>2706.790039</td>\n",
              "    </tr>\n",
              "    <tr>\n",
              "      <th>2022-02-23</th>\n",
              "      <td>33131.761719</td>\n",
              "      <td>2719.530029</td>\n",
              "    </tr>\n",
              "    <tr>\n",
              "      <th>2022-02-24</th>\n",
              "      <td>33223.828125</td>\n",
              "      <td>2648.800049</td>\n",
              "    </tr>\n",
              "    <tr>\n",
              "      <th>2022-02-25</th>\n",
              "      <td>34058.750000</td>\n",
              "      <td>2676.760010</td>\n",
              "    </tr>\n",
              "    <tr>\n",
              "      <th>2022-02-28</th>\n",
              "      <td>33892.601562</td>\n",
              "      <td>2699.179932</td>\n",
              "    </tr>\n",
              "  </tbody>\n",
              "</table>\n",
              "<p>5744 rows × 2 columns</p>\n",
              "</div>\n",
              "      <button class=\"colab-df-convert\" onclick=\"convertToInteractive('df-fe9649fd-195f-4f88-825a-d34e384532d1')\"\n",
              "              title=\"Convert this dataframe to an interactive table.\"\n",
              "              style=\"display:none;\">\n",
              "        \n",
              "  <svg xmlns=\"http://www.w3.org/2000/svg\" height=\"24px\"viewBox=\"0 0 24 24\"\n",
              "       width=\"24px\">\n",
              "    <path d=\"M0 0h24v24H0V0z\" fill=\"none\"/>\n",
              "    <path d=\"M18.56 5.44l.94 2.06.94-2.06 2.06-.94-2.06-.94-.94-2.06-.94 2.06-2.06.94zm-11 1L8.5 8.5l.94-2.06 2.06-.94-2.06-.94L8.5 2.5l-.94 2.06-2.06.94zm10 10l.94 2.06.94-2.06 2.06-.94-2.06-.94-.94-2.06-.94 2.06-2.06.94z\"/><path d=\"M17.41 7.96l-1.37-1.37c-.4-.4-.92-.59-1.43-.59-.52 0-1.04.2-1.43.59L10.3 9.45l-7.72 7.72c-.78.78-.78 2.05 0 2.83L4 21.41c.39.39.9.59 1.41.59.51 0 1.02-.2 1.41-.59l7.78-7.78 2.81-2.81c.8-.78.8-2.07 0-2.86zM5.41 20L4 18.59l7.72-7.72 1.47 1.35L5.41 20z\"/>\n",
              "  </svg>\n",
              "      </button>\n",
              "      \n",
              "  <style>\n",
              "    .colab-df-container {\n",
              "      display:flex;\n",
              "      flex-wrap:wrap;\n",
              "      gap: 12px;\n",
              "    }\n",
              "\n",
              "    .colab-df-convert {\n",
              "      background-color: #E8F0FE;\n",
              "      border: none;\n",
              "      border-radius: 50%;\n",
              "      cursor: pointer;\n",
              "      display: none;\n",
              "      fill: #1967D2;\n",
              "      height: 32px;\n",
              "      padding: 0 0 0 0;\n",
              "      width: 32px;\n",
              "    }\n",
              "\n",
              "    .colab-df-convert:hover {\n",
              "      background-color: #E2EBFA;\n",
              "      box-shadow: 0px 1px 2px rgba(60, 64, 67, 0.3), 0px 1px 3px 1px rgba(60, 64, 67, 0.15);\n",
              "      fill: #174EA6;\n",
              "    }\n",
              "\n",
              "    [theme=dark] .colab-df-convert {\n",
              "      background-color: #3B4455;\n",
              "      fill: #D2E3FC;\n",
              "    }\n",
              "\n",
              "    [theme=dark] .colab-df-convert:hover {\n",
              "      background-color: #434B5C;\n",
              "      box-shadow: 0px 1px 3px 1px rgba(0, 0, 0, 0.15);\n",
              "      filter: drop-shadow(0px 1px 2px rgba(0, 0, 0, 0.3));\n",
              "      fill: #FFFFFF;\n",
              "    }\n",
              "  </style>\n",
              "\n",
              "      <script>\n",
              "        const buttonEl =\n",
              "          document.querySelector('#df-fe9649fd-195f-4f88-825a-d34e384532d1 button.colab-df-convert');\n",
              "        buttonEl.style.display =\n",
              "          google.colab.kernel.accessAllowed ? 'block' : 'none';\n",
              "\n",
              "        async function convertToInteractive(key) {\n",
              "          const element = document.querySelector('#df-fe9649fd-195f-4f88-825a-d34e384532d1');\n",
              "          const dataTable =\n",
              "            await google.colab.kernel.invokeFunction('convertToInteractive',\n",
              "                                                     [key], {});\n",
              "          if (!dataTable) return;\n",
              "\n",
              "          const docLinkHtml = 'Like what you see? Visit the ' +\n",
              "            '<a target=\"_blank\" href=https://colab.research.google.com/notebooks/data_table.ipynb>data table notebook</a>'\n",
              "            + ' to learn more about interactive tables.';\n",
              "          element.innerHTML = '';\n",
              "          dataTable['output_type'] = 'display_data';\n",
              "          await google.colab.output.renderOutput(dataTable, element);\n",
              "          const docLink = document.createElement('div');\n",
              "          docLink.innerHTML = docLinkHtml;\n",
              "          element.appendChild(docLink);\n",
              "        }\n",
              "      </script>\n",
              "    </div>\n",
              "  </div>\n",
              "  "
            ],
            "text/plain": [
              "                     Dow        KOSPI\n",
              "Date                                 \n",
              "2000-01-04  10997.929688  1059.040039\n",
              "2000-01-05  11122.650391   986.309998\n",
              "2000-01-06  11253.259766   960.789978\n",
              "2000-01-07  11522.559570   948.650024\n",
              "2000-01-10  11572.200195   987.239990\n",
              "...                  ...          ...\n",
              "2022-02-22  33596.609375  2706.790039\n",
              "2022-02-23  33131.761719  2719.530029\n",
              "2022-02-24  33223.828125  2648.800049\n",
              "2022-02-25  34058.750000  2676.760010\n",
              "2022-02-28  33892.601562  2699.179932\n",
              "\n",
              "[5744 rows x 2 columns]"
            ]
          },
          "metadata": {},
          "execution_count": 17
        }
      ]
    },
    {
      "cell_type": "code",
      "source": [
        "from pandas_datareader import data as pdr\n",
        "import yfinance as yf\n",
        "yf.pdr_override()\n",
        "\n",
        "dow = pdr.get_data_yahoo('^DJI', '2000-01-04') # 다우존스\n",
        "kospi = pdr.get_data_yahoo('^ks11', '2000-01-04') # 코스피\n",
        "\n",
        "df = pd.DataFrame({'DOW': dow['Close'], 'KOSPI': kospi['Close']})\n",
        "df = df.fillna(method='bfill')\n",
        "df = df.fillna(method='ffill') # forward fill (앞에 값을 덮어씀)\n",
        "\n",
        "import matplotlib.pyplot as plt\n",
        "plt.figure(figsize=(7, 7))\n",
        "plt.scatter(df['DOW'], df['KOSPI'], marker='.')\n",
        "plt.xlabel('Dow Jones Industrial Average')\n",
        "plt.ylabel('KOSPI')\n",
        "plt.show()"
      ],
      "metadata": {
        "colab": {
          "base_uri": "https://localhost:8080/",
          "height": 478
        },
        "id": "aXJHLRzjfuaz",
        "outputId": "e250df65-a0d7-457f-abc6-8655f4e91695"
      },
      "execution_count": 19,
      "outputs": [
        {
          "output_type": "stream",
          "name": "stdout",
          "text": [
            "[*********************100%***********************]  1 of 1 completed\n",
            "[*********************100%***********************]  1 of 1 completed\n"
          ]
        },
        {
          "output_type": "display_data",
          "data": {
            "image/png": "[encoded data removed]",
            "text/plain": [
              "<Figure size 504x504 with 1 Axes>"
            ]
          },
          "metadata": {
            "needs_background": "light"
          }
        }
      ]
    },
    {
      "cell_type": "code",
      "source": [
        "!pip install scipy"
      ],
      "metadata": {
        "colab": {
          "base_uri": "https://localhost:8080/"
        },
        "id": "4hpJ1gFygciF",
        "outputId": "5d24bf1d-4bdc-4682-a99b-85eb5a3ca693"
      },
      "execution_count": 20,
      "outputs": [
        {
          "output_type": "stream",
          "name": "stdout",
          "text": [
            "Requirement already satisfied: scipy in /usr/local/lib/python3.7/dist-packages (1.4.1)\n",
            "Requirement already satisfied: numpy>=1.13.3 in /usr/local/lib/python3.7/dist-packages (from scipy) (1.21.5)\n"
          ]
        }
      ]
    },
    {
      "cell_type": "code",
      "source": [
        "# linregress() 함수를 이용하면 시리즈 객체 두 개만으로 간단한 선형 회귀모델을 생성하여 분석핤 수 있음\n",
        "from scipy import stats\n",
        "regr = stats.linregress(df['DOW'], df['KOSPI'])\n",
        "regr\n",
        "# 기울기, y절편, r값(상관계수), p값, 표준편차"
      ],
      "metadata": {
        "colab": {
          "base_uri": "https://localhost:8080/"
        },
        "id": "2QVIIFl8giWh",
        "outputId": "23996c2a-f1b9-4bf4-c78c-1ac6b133cee4"
      },
      "execution_count": 21,
      "outputs": [
        {
          "output_type": "execute_result",
          "data": {
            "text/plain": [
              "LinregressResult(slope=0.07637427960899178, intercept=464.7089381032431, rvalue=0.8218826781675697, pvalue=0.0, stderr=0.0006985845667866308)"
            ]
          },
          "metadata": {},
          "execution_count": 21
        }
      ]
    },
    {
      "cell_type": "code",
      "source": [
        "df.corr()"
      ],
      "metadata": {
        "colab": {
          "base_uri": "https://localhost:8080/",
          "height": 112
        },
        "id": "xjYxYhhyg5sn",
        "outputId": "b59c3985-b93e-44e5-af12-e742bb7bdb42"
      },
      "execution_count": 22,
      "outputs": [
        {
          "output_type": "execute_result",
          "data": {
            "text/html": [
              "\n",
              "  <div id=\"df-b1a9fe87-5360-4485-a43f-b6c648620f56\">\n",
              "    <div class=\"colab-df-container\">\n",
              "      <div>\n",
              "<style scoped>\n",
              "    .dataframe tbody tr th:only-of-type {\n",
              "        vertical-align: middle;\n",
              "    }\n",
              "\n",
              "    .dataframe tbody tr th {\n",
              "        vertical-align: top;\n",
              "    }\n",
              "\n",
              "    .dataframe thead th {\n",
              "        text-align: right;\n",
              "    }\n",
              "</style>\n",
              "<table border=\"1\" class=\"dataframe\">\n",
              "  <thead>\n",
              "    <tr style=\"text-align: right;\">\n",
              "      <th></th>\n",
              "      <th>DOW</th>\n",
              "      <th>KOSPI</th>\n",
              "    </tr>\n",
              "  </thead>\n",
              "  <tbody>\n",
              "    <tr>\n",
              "      <th>DOW</th>\n",
              "      <td>1.000000</td>\n",
              "      <td>0.821883</td>\n",
              "    </tr>\n",
              "    <tr>\n",
              "      <th>KOSPI</th>\n",
              "      <td>0.821883</td>\n",
              "      <td>1.000000</td>\n",
              "    </tr>\n",
              "  </tbody>\n",
              "</table>\n",
              "</div>\n",
              "      <button class=\"colab-df-convert\" onclick=\"convertToInteractive('df-b1a9fe87-5360-4485-a43f-b6c648620f56')\"\n",
              "              title=\"Convert this dataframe to an interactive table.\"\n",
              "              style=\"display:none;\">\n",
              "        \n",
              "  <svg xmlns=\"http://www.w3.org/2000/svg\" height=\"24px\"viewBox=\"0 0 24 24\"\n",
              "       width=\"24px\">\n",
              "    <path d=\"M0 0h24v24H0V0z\" fill=\"none\"/>\n",
              "    <path d=\"M18.56 5.44l.94 2.06.94-2.06 2.06-.94-2.06-.94-.94-2.06-.94 2.06-2.06.94zm-11 1L8.5 8.5l.94-2.06 2.06-.94-2.06-.94L8.5 2.5l-.94 2.06-2.06.94zm10 10l.94 2.06.94-2.06 2.06-.94-2.06-.94-.94-2.06-.94 2.06-2.06.94z\"/><path d=\"M17.41 7.96l-1.37-1.37c-.4-.4-.92-.59-1.43-.59-.52 0-1.04.2-1.43.59L10.3 9.45l-7.72 7.72c-.78.78-.78 2.05 0 2.83L4 21.41c.39.39.9.59 1.41.59.51 0 1.02-.2 1.41-.59l7.78-7.78 2.81-2.81c.8-.78.8-2.07 0-2.86zM5.41 20L4 18.59l7.72-7.72 1.47 1.35L5.41 20z\"/>\n",
              "  </svg>\n",
              "      </button>\n",
              "      \n",
              "  <style>\n",
              "    .colab-df-container {\n",
              "      display:flex;\n",
              "      flex-wrap:wrap;\n",
              "      gap: 12px;\n",
              "    }\n",
              "\n",
              "    .colab-df-convert {\n",
              "      background-color: #E8F0FE;\n",
              "      border: none;\n",
              "      border-radius: 50%;\n",
              "      cursor: pointer;\n",
              "      display: none;\n",
              "      fill: #1967D2;\n",
              "      height: 32px;\n",
              "      padding: 0 0 0 0;\n",
              "      width: 32px;\n",
              "    }\n",
              "\n",
              "    .colab-df-convert:hover {\n",
              "      background-color: #E2EBFA;\n",
              "      box-shadow: 0px 1px 2px rgba(60, 64, 67, 0.3), 0px 1px 3px 1px rgba(60, 64, 67, 0.15);\n",
              "      fill: #174EA6;\n",
              "    }\n",
              "\n",
              "    [theme=dark] .colab-df-convert {\n",
              "      background-color: #3B4455;\n",
              "      fill: #D2E3FC;\n",
              "    }\n",
              "\n",
              "    [theme=dark] .colab-df-convert:hover {\n",
              "      background-color: #434B5C;\n",
              "      box-shadow: 0px 1px 3px 1px rgba(0, 0, 0, 0.15);\n",
              "      filter: drop-shadow(0px 1px 2px rgba(0, 0, 0, 0.3));\n",
              "      fill: #FFFFFF;\n",
              "    }\n",
              "  </style>\n",
              "\n",
              "      <script>\n",
              "        const buttonEl =\n",
              "          document.querySelector('#df-b1a9fe87-5360-4485-a43f-b6c648620f56 button.colab-df-convert');\n",
              "        buttonEl.style.display =\n",
              "          google.colab.kernel.accessAllowed ? 'block' : 'none';\n",
              "\n",
              "        async function convertToInteractive(key) {\n",
              "          const element = document.querySelector('#df-b1a9fe87-5360-4485-a43f-b6c648620f56');\n",
              "          const dataTable =\n",
              "            await google.colab.kernel.invokeFunction('convertToInteractive',\n",
              "                                                     [key], {});\n",
              "          if (!dataTable) return;\n",
              "\n",
              "          const docLinkHtml = 'Like what you see? Visit the ' +\n",
              "            '<a target=\"_blank\" href=https://colab.research.google.com/notebooks/data_table.ipynb>data table notebook</a>'\n",
              "            + ' to learn more about interactive tables.';\n",
              "          element.innerHTML = '';\n",
              "          dataTable['output_type'] = 'display_data';\n",
              "          await google.colab.output.renderOutput(dataTable, element);\n",
              "          const docLink = document.createElement('div');\n",
              "          docLink.innerHTML = docLinkHtml;\n",
              "          element.appendChild(docLink);\n",
              "        }\n",
              "      </script>\n",
              "    </div>\n",
              "  </div>\n",
              "  "
            ],
            "text/plain": [
              "            DOW     KOSPI\n",
              "DOW    1.000000  0.821883\n",
              "KOSPI  0.821883  1.000000"
            ]
          },
          "metadata": {},
          "execution_count": 22
        }
      ]
    },
    {
      "cell_type": "code",
      "source": [
        "df['DOW'].corr(df['KOSPI'])"
      ],
      "metadata": {
        "colab": {
          "base_uri": "https://localhost:8080/"
        },
        "id": "42YQ3Hg6hFKh",
        "outputId": "01531ba5-523f-4452-e09e-3f42b5432424"
      },
      "execution_count": 23,
      "outputs": [
        {
          "output_type": "execute_result",
          "data": {
            "text/plain": [
              "0.8218826781675699"
            ]
          },
          "metadata": {},
          "execution_count": 23
        }
      ]
    },
    {
      "cell_type": "code",
      "source": [
        "# 결정계수\n",
        "# 관측된 데이터에서 추정한 회귀선이 실제로 데이터를 어느 정도 설명하는지를 나타내는 계수\n",
        "# 상관계수의 제곱한 값\n",
        "r_value = df['DOW'].corr(df['KOSPI'])\n",
        "r_squared = r_value ** 2\n",
        "r_squared\n",
        "# 결정계수가 1이면 모든 표본 관측치가 추정된 회귀선 상에만 있다는 의미\n",
        "# 결정계수가 0이면 추정된 회귀선이 변수 사이의 관계를 전혀 설명하지 못한다는 의미"
      ],
      "metadata": {
        "colab": {
          "base_uri": "https://localhost:8080/"
        },
        "id": "I4CqYxxxhJ1I",
        "outputId": "ab38757f-f5d0-4330-d94d-49a24f0b61be"
      },
      "execution_count": 26,
      "outputs": [
        {
          "output_type": "execute_result",
          "data": {
            "text/plain": [
              "0.6754911366718972"
            ]
          },
          "metadata": {},
          "execution_count": 26
        }
      ]
    },
    {
      "cell_type": "code",
      "source": [
        "from pandas_datareader import data as pdr\n",
        "import yfinance as yf\n",
        "yf.pdr_override()\n",
        "from scipy import stats\n",
        "import matplotlib.pyplot as plt\n",
        "\n",
        "\n",
        "dow = pdr.get_data_yahoo('^DJI', '2000-01-04') # 다우존스\n",
        "kospi = pdr.get_data_yahoo('^KS11', '2000-01-04') # 코스피\n",
        "\n",
        "df = pd.DataFrame({'X': dow['Close'], 'Y': kospi['Close']})\n",
        "df = df.fillna(method='bfill')\n",
        "df = df.fillna(method='ffill')\n",
        "\n",
        "regr = stats.linregress(df.X, df.Y)\n",
        "regr_line = f'Y = {regr.slope:.2f} * X + {regr.intercept:.2f}'\n",
        "\n",
        "plt.figure(figsize=(7, 7))\n",
        "plt.plot(df.X, df.Y, '.')\n",
        "plt.plot(df.X, regr.slope * df.X + regr.intercept, 'r')\n",
        "plt.legend(['DOW x KOSPI', regr_line])\n",
        "plt.title(f'DOW x KOSPI (R = {regr.rvalue:.2f})')\n",
        "plt.xlabel('Dow Jones Industrial Average')\n",
        "plt.ylabel('KOSPI')\n",
        "plt.show()"
      ],
      "metadata": {
        "colab": {
          "base_uri": "https://localhost:8080/",
          "height": 494
        },
        "id": "lf5rRs2IhewE",
        "outputId": "476c873c-6275-4942-e79f-593da6661542"
      },
      "execution_count": 31,
      "outputs": [
        {
          "output_type": "stream",
          "name": "stdout",
          "text": [
            "[*********************100%***********************]  1 of 1 completed\n",
            "[*********************100%***********************]  1 of 1 completed\n"
          ]
        },
        {
          "output_type": "display_data",
          "data": {
            "image/png": "[encoded data removed]",
            "text/plain": [
              "<Figure size 504x504 with 1 Axes>"
            ]
          },
          "metadata": {
            "needs_background": "light"
          }
        }
      ]
    },
    {
      "cell_type": "code",
      "source": [
        ""
      ],
      "metadata": {
        "id": "zSuFiVoKiaGk"
      },
      "execution_count": null,
      "outputs": []
    }
  ]
}